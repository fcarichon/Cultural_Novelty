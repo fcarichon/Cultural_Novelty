{
 "cells": [
  {
   "cell_type": "code",
   "execution_count": null,
   "id": "12595836-c97f-41b7-8caa-a3fe1f2c242b",
   "metadata": {},
   "outputs": [],
   "source": [
    "import pandas as pd\n",
    "import ast\n",
    "from collections import Counter\n",
    "import re\n",
    "from sklearn.model_selection import train_test_split\n",
    "import ast\n",
    "\n",
    "import json\n",
    "from tqdm import tqdm"
   ]
  },
  {
   "cell_type": "code",
   "execution_count": null,
   "id": "e9ca58f8-4986-40dd-98dd-bedb7c8e55e0",
   "metadata": {},
   "outputs": [],
   "source": [
    "##For each json file in the folder,\n",
    "    #Create the KB and EB (Combinations -- PMI directly in measure)\n",
    "    #Take the IDs, measure the novelty scores and the surprise\n",
    "    #Make multiple lists of IDs and results"
   ]
  },
  {
   "cell_type": "code",
   "execution_count": 14,
   "id": "35ddd31a-b2c5-4c32-a7e2-f4d8496ac374",
   "metadata": {},
   "outputs": [],
   "source": [
    "test = \"Chards and Beans\"\n",
    "test2 = \"Chard and Bean\""
   ]
  },
  {
   "cell_type": "code",
   "execution_count": null,
   "id": "efb68657-4888-4be3-932b-ab6684cefb3d",
   "metadata": {},
   "outputs": [],
   "source": []
  }
 ],
 "metadata": {
  "kernelspec": {
   "display_name": "Python 3 (ipykernel)",
   "language": "python",
   "name": "python3"
  },
  "language_info": {
   "codemirror_mode": {
    "name": "ipython",
    "version": 3
   },
   "file_extension": ".py",
   "mimetype": "text/x-python",
   "name": "python",
   "nbconvert_exporter": "python",
   "pygments_lexer": "ipython3",
   "version": "3.12.3"
  }
 },
 "nbformat": 4,
 "nbformat_minor": 5
}
