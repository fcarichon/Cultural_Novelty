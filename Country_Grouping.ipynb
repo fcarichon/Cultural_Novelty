{
 "cells": [
  {
   "cell_type": "code",
   "execution_count": 2,
   "id": "53eaad3b-11bf-44d3-8d7f-15e60d14b53d",
   "metadata": {},
   "outputs": [],
   "source": [
    "import pandas as pd\n",
    "import ast\n",
    "from collections import Counter\n",
    "import re\n",
    "from sklearn.model_selection import train_test_split\n",
    "import ast\n",
    "from functools import reduce\n",
    "from collections import defaultdict\n",
    "import spacy\n",
    "nlp = spacy.load(\"en_core_web_sm\")\n",
    "from collections import Counter"
   ]
  },
  {
   "cell_type": "code",
   "execution_count": 5,
   "id": "bdaab74d-7cf2-4abf-a81c-f484a0e8c800",
   "metadata": {},
   "outputs": [],
   "source": [
    "df = pd.read_csv('Recipe_dataset/NLGRecipe_KownCountriesOnly_Train.csv')"
   ]
  },
  {
   "cell_type": "code",
   "execution_count": 7,
   "id": "6ca93328-a47b-416d-883a-19128e3ec431",
   "metadata": {
    "scrolled": true
   },
   "outputs": [
    {
     "data": {
      "text/html": [
       "<div>\n",
       "<style scoped>\n",
       "    .dataframe tbody tr th:only-of-type {\n",
       "        vertical-align: middle;\n",
       "    }\n",
       "\n",
       "    .dataframe tbody tr th {\n",
       "        vertical-align: top;\n",
       "    }\n",
       "\n",
       "    .dataframe thead th {\n",
       "        text-align: right;\n",
       "    }\n",
       "</style>\n",
       "<table border=\"1\" class=\"dataframe\">\n",
       "  <thead>\n",
       "    <tr style=\"text-align: right;\">\n",
       "      <th></th>\n",
       "      <th>Unnamed: 0</th>\n",
       "      <th>title</th>\n",
       "      <th>ingredients</th>\n",
       "      <th>directions</th>\n",
       "      <th>link</th>\n",
       "      <th>source</th>\n",
       "      <th>NER</th>\n",
       "      <th>countries</th>\n",
       "    </tr>\n",
       "  </thead>\n",
       "  <tbody>\n",
       "    <tr>\n",
       "      <th>0</th>\n",
       "      <td>639161</td>\n",
       "      <td>Mexican Dish</td>\n",
       "      <td>[\"1 can whole kernel corn\", \"1 can chili\", \"1 ...</td>\n",
       "      <td>[\"Mix in baking dish.\", \"Bake 30 to 45 minutes...</td>\n",
       "      <td>www.cookbooks.com/Recipe-Details.aspx?id=766171</td>\n",
       "      <td>Gathered</td>\n",
       "      <td>[\"whole kernel corn\", \"chili\", \"tamales\", \"wat...</td>\n",
       "      <td>Mexico</td>\n",
       "    </tr>\n",
       "    <tr>\n",
       "      <th>1</th>\n",
       "      <td>241058</td>\n",
       "      <td>Spanish Rice</td>\n",
       "      <td>[\"4 c. boiled rice\", \"3 onions, chopped\", \"4 T...</td>\n",
       "      <td>[\"Brown onions in hot cooking fat.\", \"Combine ...</td>\n",
       "      <td>www.cookbooks.com/Recipe-Details.aspx?id=361539</td>\n",
       "      <td>Gathered</td>\n",
       "      <td>[\"boiled rice\", \"onions\", \"cooking fat\", \"clov...</td>\n",
       "      <td>Spain</td>\n",
       "    </tr>\n",
       "    <tr>\n",
       "      <th>2</th>\n",
       "      <td>1954593</td>\n",
       "      <td>Baked Mexican Pinwheels</td>\n",
       "      <td>[\"1 cup Philadelphia Light Cream Cheese Produc...</td>\n",
       "      <td>[\"Heat oven to 375F.\", \"Mix cream cheese produ...</td>\n",
       "      <td>www.kraftrecipes.com/recipes/baked-mexican-pin...</td>\n",
       "      <td>Recipes1M</td>\n",
       "      <td>[\"Cream Cheese\", \"Cheese\", \"chicken\", \"tomato\"...</td>\n",
       "      <td>Mexico</td>\n",
       "    </tr>\n",
       "    <tr>\n",
       "      <th>3</th>\n",
       "      <td>2184694</td>\n",
       "      <td>Michelle Naranjos Indian Bread</td>\n",
       "      <td>[\"7 cups all-purpose flour\", \"1/2 teaspoon sal...</td>\n",
       "      <td>[\"In a large bowl, combine the flour and salt ...</td>\n",
       "      <td>www.cookstr.com/recipes/michelle-naranjorsquos...</td>\n",
       "      <td>Recipes1M</td>\n",
       "      <td>[\"flour\", \"salt\", \"lard\", \"active dry yeast\", ...</td>\n",
       "      <td>India</td>\n",
       "    </tr>\n",
       "    <tr>\n",
       "      <th>4</th>\n",
       "      <td>940912</td>\n",
       "      <td>Grilled Eggplant Stack With Greek Kasseri Cheese</td>\n",
       "      <td>[\"1 teaspoon salt, or as needed\", \"2 eggplants...</td>\n",
       "      <td>[\"Lightly sprinkle salt over eggplant slices a...</td>\n",
       "      <td>www.allrecipes.com/recipe/231641/grilled-eggpl...</td>\n",
       "      <td>Gathered</td>\n",
       "      <td>[\"salt\", \"eggplants\", \"olive oil\", \"garlic\", \"...</td>\n",
       "      <td>Greece</td>\n",
       "    </tr>\n",
       "  </tbody>\n",
       "</table>\n",
       "</div>"
      ],
      "text/plain": [
       "   Unnamed: 0                                             title  \\\n",
       "0      639161                                      Mexican Dish   \n",
       "1      241058                                      Spanish Rice   \n",
       "2     1954593                           Baked Mexican Pinwheels   \n",
       "3     2184694                    Michelle Naranjos Indian Bread   \n",
       "4      940912  Grilled Eggplant Stack With Greek Kasseri Cheese   \n",
       "\n",
       "                                         ingredients  \\\n",
       "0  [\"1 can whole kernel corn\", \"1 can chili\", \"1 ...   \n",
       "1  [\"4 c. boiled rice\", \"3 onions, chopped\", \"4 T...   \n",
       "2  [\"1 cup Philadelphia Light Cream Cheese Produc...   \n",
       "3  [\"7 cups all-purpose flour\", \"1/2 teaspoon sal...   \n",
       "4  [\"1 teaspoon salt, or as needed\", \"2 eggplants...   \n",
       "\n",
       "                                          directions  \\\n",
       "0  [\"Mix in baking dish.\", \"Bake 30 to 45 minutes...   \n",
       "1  [\"Brown onions in hot cooking fat.\", \"Combine ...   \n",
       "2  [\"Heat oven to 375F.\", \"Mix cream cheese produ...   \n",
       "3  [\"In a large bowl, combine the flour and salt ...   \n",
       "4  [\"Lightly sprinkle salt over eggplant slices a...   \n",
       "\n",
       "                                                link     source  \\\n",
       "0    www.cookbooks.com/Recipe-Details.aspx?id=766171   Gathered   \n",
       "1    www.cookbooks.com/Recipe-Details.aspx?id=361539   Gathered   \n",
       "2  www.kraftrecipes.com/recipes/baked-mexican-pin...  Recipes1M   \n",
       "3  www.cookstr.com/recipes/michelle-naranjorsquos...  Recipes1M   \n",
       "4  www.allrecipes.com/recipe/231641/grilled-eggpl...   Gathered   \n",
       "\n",
       "                                                 NER countries  \n",
       "0  [\"whole kernel corn\", \"chili\", \"tamales\", \"wat...    Mexico  \n",
       "1  [\"boiled rice\", \"onions\", \"cooking fat\", \"clov...     Spain  \n",
       "2  [\"Cream Cheese\", \"Cheese\", \"chicken\", \"tomato\"...    Mexico  \n",
       "3  [\"flour\", \"salt\", \"lard\", \"active dry yeast\", ...     India  \n",
       "4  [\"salt\", \"eggplants\", \"olive oil\", \"garlic\", \"...    Greece  "
      ]
     },
     "execution_count": 7,
     "metadata": {},
     "output_type": "execute_result"
    }
   ],
   "source": [
    "df.head()"
   ]
  },
  {
   "cell_type": "code",
   "execution_count": 9,
   "id": "8e3895fa-672d-4077-b834-146f477df426",
   "metadata": {},
   "outputs": [],
   "source": [
    "list_countries = list(set(df['countries']))"
   ]
  },
  {
   "cell_type": "code",
   "execution_count": 11,
   "id": "e26d2671-b09f-4c88-9be3-8d3109be4b56",
   "metadata": {},
   "outputs": [],
   "source": [
    "stopword_ingredients = ['sugar', 'milk', 'salt', 'water', 'pepper', 'butter', 'oil', 'olive oil', 'vegetable oil', 'garlic', 'onion', \n",
    "                        'egg', 'eggs', 'flour', 'brown sugar', 'sugar', 'vinegar', 'powdered sugar', 'accompaniment','style', 'meal', 'ground', 'white', 'cream', \n",
    "                        'cheese', 'fryer', 'chunky', 'soup', 'thighs', 'wheat', 'shell', 'bell', 'sauce', 'vegetable', 'shortening', 'bun', 'grain', 'powder', \n",
    "                        'yeast', 'pwdr','purpose','ketchup','noodle','bouillon', 'cube','lasagna', 'hamburger', 'bread', 'soda','breadcrumb', 'mayo',\n",
    "                        'confectioner','broth','macaroni','elbow','shell', 'yolk', 'buttermilk', 'dressing', 'meat', 'bun', 'mayonnaise', 'skinless',\n",
    "                        'whipping', 'miracle', 'white', 'stock', 'pasta', 'rice', 'crust', 'seasoning', 'bouillon', 'juice', 'leaf', 'breast', ' breast', 'chuck', 'velveeta',\n",
    "                        'granule' 'evoo', 'deli', 'roast', 'roll', 'seed',  'black',  'pizza','head', 'green', 'stew', 'dill', 'weed', 'cube', 'stalk', 'cooking spray', \n",
    "                        'spray', 'cooking', 'tenderloin', 'chicken breast', 'paste', 'spice', 'allspice', 'worcestershire', 'chicken breast', 'tomato paste', 'mustard', \n",
    "                        'extract', 'unsalted', 'ingredient', 'party','dark', 'flower', 'brazil', 'wine', 'beef', 'chicken','cake', 'canola', 'vanilla', 'tomato', 'shrimp']\n",
    "authrorized_pos= ['PROPN', 'PRON', 'NOUN']"
   ]
  },
  {
   "cell_type": "code",
   "execution_count": 13,
   "id": "673dea00-17c3-4f80-b69a-f25ea81ea023",
   "metadata": {},
   "outputs": [],
   "source": [
    "def text_cleaning(recipe_list):\n",
    "\n",
    "    clean_list = []\n",
    "    for i in range(len(recipe_list)):\n",
    "        recipe_doc = nlp(str(recipe_list[i]))\n",
    "        temp_list = []\n",
    "        for token in recipe_doc:\n",
    "            if token.text.lower() not in stopword_ingredients:\n",
    "                if len(token.text.lower()) > 3:\n",
    "                    if token.pos_ in authrorized_pos:\n",
    "                        temp_list.append(token.lemma_.lower())\n",
    "        if len(temp_list) > 0:\n",
    "            clean_text = ' '.join(temp_list)\n",
    "            clean_list.append(clean_text)\n",
    "    return clean_list"
   ]
  },
  {
   "cell_type": "code",
   "execution_count": 27,
   "id": "85e5e428-3e88-4c2e-9381-ec41a5b094db",
   "metadata": {
    "scrolled": true
   },
   "outputs": [],
   "source": [
    "Dict_ = defaultdict(list)\n",
    "for country in list_countries:\n",
    "    df_country = df[df['countries'] == country]\n",
    "    list_ingredients = list(df_country['NER'])\n",
    "    list_temp = []\n",
    "    for str_list in list_ingredients:\n",
    "        list_temp.extend(ast.literal_eval(str_list))\n",
    "    \n",
    "    count_ingredient = Counter(list_temp)\n",
    "    #print(len(count_ingredient))\n",
    "    avg = sum(count_ingredient.values()) / float(len(count_ingredient))\n",
    "   #print('avg :', avg)\n",
    "    filtered_ingredient = dict((k, v) for k, v in count_ingredient.items() if v >= avg+1.0) #+1.0 on the avg because most average are around 1 or 2\n",
    "   # print(len(filtered_ingredient))\n",
    "    #print('=======================')\n",
    "    set_ingredient = list(filtered_ingredient.keys())\n",
    "    clean_set = text_cleaning(set_ingredient)\n",
    "    clean_set = list(set(clean_set))\n",
    "    final_list = []\n",
    "    for elem in clean_set:\n",
    "        if elem not in stopword_ingredients:\n",
    "            final_list.append(elem)\n",
    "    final_list = list(set(final_list))\n",
    "    if country.lower() in Dict_:\n",
    "        Dict_[country.lower()].extend(final_list)\n",
    "    else:\n",
    "        Dict_[country.lower()] = final_list"
   ]
  },
  {
   "cell_type": "code",
   "execution_count": 28,
   "id": "a678b31c-eb6f-43b2-825a-c9a1e6f5d784",
   "metadata": {
    "scrolled": true
   },
   "outputs": [
    {
     "data": {
      "text/plain": [
       "['sriracha',\n",
       " 'marinade',\n",
       " 'nut',\n",
       " 'cayenne',\n",
       " 'peanut',\n",
       " 'apple',\n",
       " 'hoisin',\n",
       " 'gochujang',\n",
       " 'olive',\n",
       " 'corn syrup',\n",
       " 'tamari',\n",
       " 'recipe',\n",
       " 'pork',\n",
       " 'flank steak',\n",
       " 'radish',\n",
       " 'fish',\n",
       " 'carrot',\n",
       " 'rib',\n",
       " 'corn tortilla',\n",
       " 'pear',\n",
       " 'cinnamon',\n",
       " 'brown',\n",
       " 'cabbage',\n",
       " 'sake',\n",
       " 'fresh ginger',\n",
       " 'honey',\n",
       " 'kiwi',\n",
       " 'shallot',\n",
       " 'apple cider',\n",
       " 'spinach',\n",
       " 'sesame',\n",
       " 'daikon radish',\n",
       " 'anchovy',\n",
       " 'baby spinach',\n",
       " 'mushroom',\n",
       " 'cucumber',\n",
       " 'sprout',\n",
       " 'scallion',\n",
       " 'sesame seed',\n",
       " 'bean sprout',\n",
       " 'oyster',\n",
       " 'skirt steak',\n",
       " 'sherry',\n",
       " 'maple syrup',\n",
       " 'pork shoulder',\n",
       " 'cornstarch',\n",
       " 'celery',\n",
       " 'zucchini',\n",
       " 'choy',\n",
       " 'chestnut',\n",
       " 'ginger',\n",
       " 'cilantro',\n",
       " 'mirin',\n",
       " 'spring onion',\n",
       " 'ginger root',\n",
       " 'potato',\n",
       " 'lemon',\n",
       " 'firm tofu',\n",
       " 'bacon',\n",
       " 'wonton wrappers',\n",
       " 'spring',\n",
       " 'chili',\n",
       " 'lime']"
      ]
     },
     "execution_count": 28,
     "metadata": {},
     "output_type": "execute_result"
    }
   ],
   "source": [
    "Dict_['south korea']"
   ]
  },
  {
   "cell_type": "code",
   "execution_count": 29,
   "id": "758a3df4-5f7c-4220-90f0-6b39d16804ab",
   "metadata": {},
   "outputs": [],
   "source": [
    "def jaccard_similarity(list1, list2):\n",
    "    #print(len(list1), len(list2))\n",
    "    intersection = len(list(set(list1).intersection(list2)))\n",
    "    union = (len(set(list1)) + len(set(list2))) - intersection\n",
    "    return float(intersection) / union"
   ]
  },
  {
   "cell_type": "code",
   "execution_count": null,
   "id": "2cc614d3-ac30-4c3e-8ac6-3d96b38ccc19",
   "metadata": {},
   "outputs": [],
   "source": [
    "list_countries"
   ]
  },
  {
   "cell_type": "code",
   "execution_count": 63,
   "id": "a1246c5c-ab7e-4e91-b760-073b742f486d",
   "metadata": {
    "scrolled": true
   },
   "outputs": [],
   "source": [
    "threshold = 0.3\n",
    "Dict_sim_countries = defaultdict(list)\n",
    "for i, country in enumerate(list_countries):\n",
    "    list_ingredient_country = Dict_[country.lower()]\n",
    "    list_other_countries = list_countries[:i] + list_countries[i+1:]\n",
    "    temp_list = []\n",
    "    if len(list_ingredient_country) > 5:\n",
    "        for other in list_other_countries:\n",
    "            list_ingredient_other = Dict_[other.lower()]\n",
    "            #if len(list_ingredient_other) > 0: \n",
    "             #   intersection = len(list(set(list_ingredient_country).intersection(list_ingredient_other)))\n",
    "                #print(intersection)\n",
    "            #    if intersection / len(list_ingredient_country) >= threshold:\n",
    "           #         temp_list.append(other)\n",
    "            if len(list_ingredient_other) > 0: \n",
    "                sim_score = jaccard_similarity(list_ingredient_country, list_ingredient_other)\n",
    "                if sim_score >= threshold:\n",
    "                    temp_list.append(other)\n",
    "        Dict_sim_countries[country.lower()].extend(temp_list)"
   ]
  },
  {
   "cell_type": "code",
   "execution_count": null,
   "id": "f3123fa8-7f04-4a9f-a455-8d0c6181a2e9",
   "metadata": {
    "scrolled": true
   },
   "outputs": [],
   "source": [
    "Dict_sim_countries"
   ]
  },
  {
   "cell_type": "code",
   "execution_count": 108,
   "id": "e9022f11-90cd-48d7-859e-ae06f8b2ded4",
   "metadata": {},
   "outputs": [],
   "source": [
    "import json "
   ]
  },
  {
   "cell_type": "code",
   "execution_count": 65,
   "id": "c5c564dc-5fe2-4c8d-8bab-7121bc274e0c",
   "metadata": {},
   "outputs": [],
   "source": [
    "with open(\"country_similarities_large_2.json\", \"w\") as outfile: \n",
    "    json.dump(Dict_sim_countries, outfile)"
   ]
  },
  {
   "cell_type": "code",
   "execution_count": null,
   "id": "ca3be169-f0b5-49b1-9b3c-1ff02afb8a59",
   "metadata": {},
   "outputs": [],
   "source": []
  }
 ],
 "metadata": {
  "kernelspec": {
   "display_name": "Python 3 (ipykernel)",
   "language": "python",
   "name": "python3"
  },
  "language_info": {
   "codemirror_mode": {
    "name": "ipython",
    "version": 3
   },
   "file_extension": ".py",
   "mimetype": "text/x-python",
   "name": "python",
   "nbconvert_exporter": "python",
   "pygments_lexer": "ipython3",
   "version": "3.12.3"
  }
 },
 "nbformat": 4,
 "nbformat_minor": 5
}
