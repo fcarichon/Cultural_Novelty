{
 "cells": [
  {
   "cell_type": "code",
   "execution_count": 3,
   "id": "c0d09bb2-2a85-4f87-a441-bd058ab4a207",
   "metadata": {},
   "outputs": [],
   "source": [
    "import pandas as pd\n",
    "import ast\n",
    "from collections import Counter\n",
    "import re\n",
    "from sklearn.model_selection import train_test_split\n",
    "import ast\n",
    "\n",
    "import json\n",
    "import spacy\n",
    "nlp = spacy.load(\"en_core_web_sm\")\n",
    "from tqdm import tqdm\n",
    "from collections import defaultdict \n",
    "from nltk.tokenize import sent_tokenize, word_tokenize\n",
    "from nltk.corpus import wordnet"
   ]
  },
  {
   "cell_type": "code",
   "execution_count": 5,
   "id": "ece69e72-9a64-4b8f-a2c6-c5c73bb42064",
   "metadata": {},
   "outputs": [],
   "source": [
    "df = pd.read_csv(\"NLGRecipe_KownCountries_Train.csv\")"
   ]
  },
  {
   "cell_type": "code",
   "execution_count": 7,
   "id": "9c1b23c2-677b-45f5-9244-c7eb502ce2e8",
   "metadata": {},
   "outputs": [],
   "source": [
    "text_list = list(df['directions'])"
   ]
  },
  {
   "cell_type": "code",
   "execution_count": 37,
   "id": "a420ba24-e420-4bee-825f-aab46a7dba28",
   "metadata": {},
   "outputs": [],
   "source": [
    "def tokenize(text):\n",
    "    return [(tok.text, tok.pos_) for tok in nlp(str(text))]"
   ]
  },
  {
   "cell_type": "code",
   "execution_count": 15,
   "id": "e26337cd-349f-4e3d-9612-88dd6b4cb435",
   "metadata": {},
   "outputs": [],
   "source": [
    "from collections import Counter"
   ]
  },
  {
   "cell_type": "code",
   "execution_count": 39,
   "id": "2aff1e16-33e1-4a4b-a8d7-5f1057ecc0ef",
   "metadata": {},
   "outputs": [],
   "source": [
    "all_tokens = []\n",
    "for text in text_list:\n",
    "    all_tokens.extend(tokenize(text))"
   ]
  },
  {
   "cell_type": "code",
   "execution_count": 40,
   "id": "cdfe7851-f009-4516-b89f-2e593b81386f",
   "metadata": {},
   "outputs": [],
   "source": [
    "dict_ = Counter(all_tokens)"
   ]
  },
  {
   "cell_type": "code",
   "execution_count": 20,
   "id": "4f569936-cf62-4199-8c39-756a10b78922",
   "metadata": {},
   "outputs": [],
   "source": [
    "dict_2 = dict(sorted(dict_.items(), key=lambda item: item[1]))"
   ]
  },
  {
   "cell_type": "code",
   "execution_count": null,
   "id": "be535661-14af-425b-bab1-b147ef77d430",
   "metadata": {},
   "outputs": [],
   "source": [
    "dict_"
   ]
  },
  {
   "cell_type": "code",
   "execution_count": null,
   "id": "1aea5100-a809-40ae-8722-a387592e206a",
   "metadata": {},
   "outputs": [],
   "source": []
  }
 ],
 "metadata": {
  "kernelspec": {
   "display_name": "Python 3 (ipykernel)",
   "language": "python",
   "name": "python3"
  },
  "language_info": {
   "codemirror_mode": {
    "name": "ipython",
    "version": 3
   },
   "file_extension": ".py",
   "mimetype": "text/x-python",
   "name": "python",
   "nbconvert_exporter": "python",
   "pygments_lexer": "ipython3",
   "version": "3.12.3"
  }
 },
 "nbformat": 4,
 "nbformat_minor": 5
}
