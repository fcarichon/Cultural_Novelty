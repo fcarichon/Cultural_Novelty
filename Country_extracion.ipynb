{
 "cells": [
  {
   "cell_type": "code",
   "execution_count": 1,
   "id": "feb60ec5-1b2d-4fea-a7de-10dce6b536af",
   "metadata": {},
   "outputs": [],
   "source": [
    "import pandas as pd\n",
    "import spacy\n",
    "nlp = spacy.load(\"en_core_web_sm\")"
   ]
  },
  {
   "cell_type": "code",
   "execution_count": 52,
   "id": "493fe695-4b9e-47b5-b17f-117461e89bb6",
   "metadata": {},
   "outputs": [],
   "source": [
    "##############################\n",
    "# TO DO\n",
    "# IMPORT COUNTRY CSV and lowercase country and nationality list\n",
    "# For each title -- tokenize and lower case\n",
    "# If one item in the list include country or nationality -- give country\n",
    "# Compile new dataset and check how many you get and from which country -- see if enough for your thing"
   ]
  },
  {
   "cell_type": "code",
   "execution_count": 86,
   "id": "32900277-90e0-424f-b34b-1400420e1716",
   "metadata": {},
   "outputs": [],
   "source": [
    "df_countries = pd.read_csv('countries.csv')"
   ]
  },
  {
   "cell_type": "code",
   "execution_count": 88,
   "id": "b380901d-fea4-46a9-884b-9a67786977c6",
   "metadata": {},
   "outputs": [],
   "source": [
    "country_list = (df_countries['Name'])\n",
    "natio_list = list(df_countries['Nationality'])"
   ]
  },
  {
   "cell_type": "code",
   "execution_count": 61,
   "id": "cc73086e-30c5-41fb-ad7c-98f1ebd9ccc6",
   "metadata": {},
   "outputs": [],
   "source": [
    "#Lower_casing all countries\n",
    "low_country_list = []\n",
    "low_natio_list = []\n",
    "for i in range(len(country_list)):\n",
    "    low_country_list.append(country_list[i].lower())\n",
    "    low_natio_list.append(natio_list[i].lower())"
   ]
  },
  {
   "cell_type": "code",
   "execution_count": 79,
   "id": "cc634f01-582c-4159-9c46-7601c53c5e58",
   "metadata": {},
   "outputs": [],
   "source": [
    "test = [\"This\", \"is\", \"a\", \"cewfdse\", \"recipe\"]"
   ]
  },
  {
   "cell_type": "code",
   "execution_count": 80,
   "id": "b7ee7065-5f0b-407b-a747-841826fec6ab",
   "metadata": {},
   "outputs": [],
   "source": [
    "intersect = list(set(test) & set(low_natio_list))"
   ]
  },
  {
   "cell_type": "code",
   "execution_count": 82,
   "id": "4db7f3b4-6627-4962-b13d-636bff5cad41",
   "metadata": {},
   "outputs": [
    {
     "data": {
      "text/plain": [
       "[]"
      ]
     },
     "execution_count": 82,
     "metadata": {},
     "output_type": "execute_result"
    }
   ],
   "source": [
    "intersect"
   ]
  },
  {
   "cell_type": "code",
   "execution_count": 64,
   "id": "a748c5b1-cf4c-40e8-97f5-2af6f14dc2bf",
   "metadata": {},
   "outputs": [],
   "source": [
    "df_recipes = pd.read_csv('full_dataset_NLGRecipe.csv')"
   ]
  },
  {
   "cell_type": "code",
   "execution_count": 67,
   "id": "e321d0fc-1ddf-4cdf-adf6-e5758c9bc446",
   "metadata": {},
   "outputs": [
    {
     "data": {
      "text/plain": [
       "['Unnamed: 0', 'title', 'ingredients', 'directions', 'link', 'source', 'NER']"
      ]
     },
     "execution_count": 67,
     "metadata": {},
     "output_type": "execute_result"
    }
   ],
   "source": [
    "list(df_recipes.columns)"
   ]
  },
  {
   "cell_type": "code",
   "execution_count": 95,
   "id": "935cc73a-f150-459c-954e-e8f25944021a",
   "metadata": {},
   "outputs": [],
   "source": [
    "title_list = list(df_recipes['title'])"
   ]
  },
  {
   "cell_type": "code",
   "execution_count": 102,
   "id": "201df613-b9a6-4b47-b8b0-e1335a339c58",
   "metadata": {},
   "outputs": [
    {
     "name": "stdout",
     "output_type": "stream",
     "text": [
      "2231142\n"
     ]
    }
   ],
   "source": [
    "print(len(title_list))"
   ]
  },
  {
   "cell_type": "code",
   "execution_count": 69,
   "id": "64e18218-7182-4ee3-a79d-441ca2dad436",
   "metadata": {},
   "outputs": [],
   "source": [
    "#We create the tokeenization function\n",
    "def tokenize(text):\n",
    "    return [tok.text for tok in nlp.tokenizer(str(text))]"
   ]
  },
  {
   "cell_type": "code",
   "execution_count": null,
   "id": "eecb7e70-86ec-4457-9899-14a8391177fa",
   "metadata": {
    "scrolled": true
   },
   "outputs": [],
   "source": [
    "country_flag = []\n",
    "for i, title in enumerate(title_list):\n",
    "    title_toks = tokenize(str(title).lower())\n",
    "    natio_interesect = list(set(title_toks) & set(low_natio_list))\n",
    "    country_interesect = list(set(title_toks) & set(low_country_list))\n",
    "    if len(natio_interesect) > 0:\n",
    "        nationality = natio_interesect[0]\n",
    "        index = low_natio_list.index(nationality)\n",
    "        country = country_list[index]\n",
    "    elif len(country_interesect) > 0:\n",
    "        country = country_interesect[0]\n",
    "    else:\n",
    "        country = '<UNK>'\n",
    "\n",
    "    if i % 1000 == 0:\n",
    "        print(i)\n",
    "    \n",
    "    country_flag.append(country)"
   ]
  },
  {
   "cell_type": "code",
   "execution_count": 105,
   "id": "5d4e6763-ca57-4747-b5fc-7402e8f92b64",
   "metadata": {},
   "outputs": [
    {
     "data": {
      "text/plain": [
       "2231142"
      ]
     },
     "execution_count": 105,
     "metadata": {},
     "output_type": "execute_result"
    }
   ],
   "source": [
    "len(country_flag)"
   ]
  },
  {
   "cell_type": "code",
   "execution_count": null,
   "id": "ad6b8a05-e749-4ec6-bbbc-5e0aa8ba32a9",
   "metadata": {},
   "outputs": [],
   "source": [
    "country_flag[0:1000]"
   ]
  },
  {
   "cell_type": "code",
   "execution_count": 108,
   "id": "afbfd995-934a-430e-a78a-78b5397bce27",
   "metadata": {},
   "outputs": [
    {
     "data": {
      "text/plain": [
       "147000"
      ]
     },
     "execution_count": 108,
     "metadata": {},
     "output_type": "execute_result"
    }
   ],
   "source": [
    "len(country_flag) - country_flag.count('<UNK>') "
   ]
  },
  {
   "cell_type": "code",
   "execution_count": 109,
   "id": "8c62f6f6-13fd-465c-a274-bf7abeca4977",
   "metadata": {},
   "outputs": [],
   "source": [
    "df_recipes['countries'] = country_flag"
   ]
  },
  {
   "cell_type": "code",
   "execution_count": 113,
   "id": "d063af38-82e4-4ab2-be95-7eca3d1280fb",
   "metadata": {},
   "outputs": [],
   "source": [
    "df_recipes.to_csv('NLGRecipe_withCountries.csv', index=False)"
   ]
  },
  {
   "cell_type": "markdown",
   "id": "e9cd0bd2-cad4-4740-91bf-c163394b9f36",
   "metadata": {},
   "source": [
    "## Extracting original and authentic recipies from both files"
   ]
  },
  {
   "cell_type": "code",
   "execution_count": 2,
   "id": "dbcb447d-b71a-47f0-9dde-dbd6ee4ba517",
   "metadata": {},
   "outputs": [],
   "source": [
    "import re"
   ]
  },
  {
   "cell_type": "code",
   "execution_count": 3,
   "id": "e4983a03-b5d1-418a-8a9f-bc59d3c0e4e2",
   "metadata": {},
   "outputs": [],
   "source": [
    "df = pd.read_csv('full_dataset_NLGRecipe.csv')"
   ]
  },
  {
   "cell_type": "code",
   "execution_count": 4,
   "id": "8ca5b727-ea30-4027-8507-13ed8eea7db0",
   "metadata": {},
   "outputs": [],
   "source": [
    "authentic_list = ['authentic', 'veritable', 'traditional', 'original']"
   ]
  },
  {
   "cell_type": "code",
   "execution_count": 5,
   "id": "42780820-10c4-434e-94d3-fcd1c0460544",
   "metadata": {},
   "outputs": [],
   "source": [
    "list_title = list(df['title'])"
   ]
  },
  {
   "cell_type": "code",
   "execution_count": 6,
   "id": "6f5f43c3-990c-4043-9ac9-609f48592ca5",
   "metadata": {},
   "outputs": [],
   "source": [
    "def tokenize(text):\n",
    "    return [tok.text.lower() for tok in nlp.tokenizer(str(text))]"
   ]
  },
  {
   "cell_type": "code",
   "execution_count": 7,
   "id": "c7d068f9-99e7-4304-8909-cc2b302d073e",
   "metadata": {},
   "outputs": [],
   "source": [
    "list_authentic = []\n",
    "for i, title in enumerate(list_title):\n",
    "    token_title = tokenize(str(title))\n",
    "    auth_interesect = list(set(token_title) & set(authentic_list))\n",
    "    if len(auth_interesect) > 0:\n",
    "        list_authentic.append('authentic')\n",
    "    else:\n",
    "        list_authentic.append('variation')"
   ]
  },
  {
   "cell_type": "code",
   "execution_count": 8,
   "id": "24d0b4e9-e9e2-40d3-9fbb-00de1c878aa0",
   "metadata": {},
   "outputs": [
    {
     "name": "stdout",
     "output_type": "stream",
     "text": [
      "2231142 2228015\n"
     ]
    }
   ],
   "source": [
    "print(len(list_title), list_authentic.count('variation'))"
   ]
  },
  {
   "cell_type": "code",
   "execution_count": 9,
   "id": "c42cff73-336c-42ad-a145-640ee64c2846",
   "metadata": {},
   "outputs": [],
   "source": [
    "df['authenticity'] = list_authentic"
   ]
  },
  {
   "cell_type": "code",
   "execution_count": 10,
   "id": "a1ea10e3-d012-4c5b-ac55-416308692b1f",
   "metadata": {},
   "outputs": [],
   "source": [
    "df.to_csv('Full_NLGRecipe_Authenticity.csv', index=False)"
   ]
  },
  {
   "cell_type": "code",
   "execution_count": 11,
   "id": "539fab12-4d3f-4346-bf3c-c6d33737f0ea",
   "metadata": {},
   "outputs": [
    {
     "data": {
      "text/plain": [
       "3127"
      ]
     },
     "execution_count": 11,
     "metadata": {},
     "output_type": "execute_result"
    }
   ],
   "source": [
    "2231142-2228015"
   ]
  },
  {
   "cell_type": "code",
   "execution_count": null,
   "id": "ed478ec2-11f0-4640-bf4b-3e9341764e5c",
   "metadata": {},
   "outputs": [],
   "source": []
  }
 ],
 "metadata": {
  "kernelspec": {
   "display_name": "Python 3 (ipykernel)",
   "language": "python",
   "name": "python3"
  },
  "language_info": {
   "codemirror_mode": {
    "name": "ipython",
    "version": 3
   },
   "file_extension": ".py",
   "mimetype": "text/x-python",
   "name": "python",
   "nbconvert_exporter": "python",
   "pygments_lexer": "ipython3",
   "version": "3.12.3"
  }
 },
 "nbformat": 4,
 "nbformat_minor": 5
}
