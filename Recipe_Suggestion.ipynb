{
 "cells": [
  {
   "cell_type": "code",
   "execution_count": 3,
   "id": "b02185dc-3d7c-4157-b03b-6504b18ddb09",
   "metadata": {},
   "outputs": [],
   "source": [
    "import pandas as pd\n",
    "import ast\n",
    "from collections import Counter\n",
    "import re"
   ]
  },
  {
   "cell_type": "code",
   "execution_count": 2,
   "id": "b0a2f43e-39e5-4c7c-94f7-b836195ab776",
   "metadata": {},
   "outputs": [],
   "source": [
    "#df_coutnries = df[df['countries'] != '<UNK>']\n",
    "#df_coutnries.to_csv('NLGRecipe_KownCountriesOnly.csv', index=False)"
   ]
  },
  {
   "cell_type": "code",
   "execution_count": 4,
   "id": "8115eaa3-a9d2-4e70-9014-c4a07ac38859",
   "metadata": {},
   "outputs": [
    {
     "name": "stdout",
     "output_type": "stream",
     "text": [
      "147000\n"
     ]
    }
   ],
   "source": [
    "df = pd.read_csv('NLGRecipe_KownCountriesAndAuthenticity.csv')\n",
    "print(len(df))"
   ]
  },
  {
   "cell_type": "markdown",
   "id": "4b8dc813-e850-414a-ae65-64df1a019d7e",
   "metadata": {},
   "source": [
    "# Take top 50 countries and take rows only from those countries"
   ]
  },
  {
   "cell_type": "code",
   "execution_count": 4,
   "id": "50cab51a-26c0-45af-9c95-ed9a819af35d",
   "metadata": {},
   "outputs": [],
   "source": [
    "#Top countries\n",
    "series = df['countries'].value_counts()"
   ]
  },
  {
   "cell_type": "code",
   "execution_count": null,
   "id": "db7b8d44-2a2d-450c-a547-32a31fb14a87",
   "metadata": {},
   "outputs": [],
   "source": [
    "series[50:80]"
   ]
  },
  {
   "cell_type": "markdown",
   "id": "2e8a1bf0-6ac0-4054-9e94-8868e155a8a5",
   "metadata": {},
   "source": [
    "## Take the top 50 NER list ingredients -- creating the stopword list"
   ]
  },
  {
   "cell_type": "code",
   "execution_count": 6,
   "id": "618b1948-0422-4449-9381-5a8e3cc9fc28",
   "metadata": {},
   "outputs": [],
   "source": [
    "def get_top_ingredients(df, country='France'):\n",
    "    df_country = df[df['countries'] == country]\n",
    "    ingr_list = list(df_turk['NER'])\n",
    "    new_ingr_list = []\n",
    "    for str_ingr in ingr_list:\n",
    "        mew_ingr_list.extend(ast.literal_eval(str_ingr))\n",
    "    sorted_dict = Counter(new_ingr_list)\n",
    "    return sorted_dict"
   ]
  },
  {
   "cell_type": "markdown",
   "id": "8526e53b-30f2-4b6f-8401-6cc1129bbbc8",
   "metadata": {},
   "source": [
    "## For each data frame -- do the processing of ingredient similarity (with dissimilarity constraint)"
   ]
  },
  {
   "cell_type": "code",
   "execution_count": 7,
   "id": "d020c38f-fcd5-4d0f-9aaf-435572b3acfa",
   "metadata": {},
   "outputs": [],
   "source": [
    "def cleaning_lists(raw_list, stopword_list):\n",
    "\n",
    "    #Cleaning list from the raw dataset\n",
    "    new_ingr_list = []\n",
    "    for str_ingr in raw_list:\n",
    "        temp = ast.literal_eval(str_ingr)\n",
    "        #Removing stopwords from list\n",
    "        temp2 = [el for el in temp if el not in stopword_list]\n",
    "        new_ingr_list.append(temp2)\n",
    "    \n",
    "    return new_ingr_list"
   ]
  },
  {
   "cell_type": "code",
   "execution_count": 8,
   "id": "b2d4f6c6-f05f-4041-b046-49748dacd3f4",
   "metadata": {},
   "outputs": [],
   "source": [
    "def recipe_suggestion(ingredient_list, top=5, lambda_=0.2):\n",
    "\n",
    "    #List of ingredient from already selected indexes taht will be penalized\n",
    "    used_ingredient = []\n",
    "    \n",
    "    #Receive a list of recipes per country and give the 5 best recipe\n",
    "    avg_list = []\n",
    "    kept_recipes = []\n",
    "    for n in range(top):\n",
    "        #print('used_ingredient : ', used_ingredient)\n",
    "        max_score = 0.\n",
    "        for i, ingredients in enumerate(ingredient_list):\n",
    "            #print(ingredients)\n",
    "            temp_list = ingredient_list[:i] + ingredient_list[i+1:]\n",
    "            #print(len(temp_list))\n",
    "            #print(temp_list[0:3])\n",
    "            #Getting the average number of common elements with all other items\n",
    "            if n == 0:                    ## At first iterations we need to estimate number of common element sbetween items but we don't want to make the calculation every steps -- efficiency\n",
    "                #print('prout')\n",
    "                if len(ingredients) == 0:\n",
    "                    avg_sim = 0.\n",
    "                else:\n",
    "                    nb_common = 0\n",
    "                    for elem in temp_list:\n",
    "                        nb_common += (len(list(set(ingredients).intersection(elem))))#/len(ingredients))\n",
    "                    avg_sim = nb_common / len(temp_list)\n",
    "                avg_list.append(avg_sim)\n",
    "                #print('avg : ', avg_sim)\n",
    "            else:                       #Getting the common number of ingredients with the alredy used ones\n",
    "                #Calculating the penalization score -- we count the total number of time each ingredient appears in the already used list\n",
    "                if len(ingredients) == 0:\n",
    "                    used_score = 0.\n",
    "                else:\n",
    "                    #print('ingredient_list: ', ingredients)\n",
    "                    #print('used_ingredient: ', used_ingredient)\n",
    "                    used_score = sum(el in ingredients for el in used_ingredient) / len(used_ingredient)\n",
    "                    #print('used_score: ',used_score)\n",
    "                avg_sim = (1-lambda_)*avg_list[i] - lambda_ * used_score\n",
    "                #print('avg_sim: ',avg_sim)\n",
    "                \n",
    "            #Saving the index of the highest similarity recipe\n",
    "            if avg_sim > max_score:\n",
    "                max_score = avg_sim\n",
    "                index_max = i\n",
    "                #print('maxes: ',max_score, index_max)\n",
    "                \n",
    "        #print('================================= ', avg_sim, index_max, max_score)\n",
    "        #After calculating all score we append the ingredients to the used ones\n",
    "        #ingredient_list\n",
    "        used_ingredient.extend(ingredient_list[index_max])\n",
    "        \n",
    "        #We keep the index of the recipe in the list\n",
    "        kept_recipes.append(index_max)\n",
    "    \n",
    "    return kept_recipes"
   ]
  },
  {
   "cell_type": "code",
   "execution_count": 9,
   "id": "090f07d7-8c8e-4b17-a75c-7d09b75ce2b4",
   "metadata": {},
   "outputs": [],
   "source": [
    "def getting_recipe_titles(df, stopword_list, country_name='Italy'):\n",
    "\n",
    "    df_country = df[df['countries'] == country_name]\n",
    "    print(country_name, \": \", len(df_country))\n",
    "    title_list = list(df_country['title'])\n",
    "    entity_list = list(df_country['NER'])\n",
    "\n",
    "    clean_entities = cleaning_lists(entity_list, stopword_list)\n",
    "    #print(clean_entities)\n",
    "    recipe_indexes = recipe_suggestion(clean_entities)\n",
    "\n",
    "    final_title_list = []\n",
    "    for index in recipe_indexes:\n",
    "        #break\n",
    "        final_title_list.append(title_list[index])\n",
    "    \n",
    "    return final_title_list"
   ]
  },
  {
   "cell_type": "markdown",
   "id": "f03d5fca-de47-4c74-808f-cc2d4b8da35f",
   "metadata": {},
   "source": [
    "# Runing the code for the selected country list"
   ]
  },
  {
   "cell_type": "code",
   "execution_count": 10,
   "id": "28c5acf9-d24a-4ad1-a352-50e29c93045d",
   "metadata": {},
   "outputs": [],
   "source": [
    "stopword_ingredients = ['sugar', 'milk', 'salt', 'water', 'pepper', 'butter', 'oil', 'olive oil', 'vegetable oil', 'garlic', 'onion', \n",
    "                 'eggs', 'flour', 'brown sugar', 'vinegar', 'powdered sugar'] #To Add Flour Eggs"
   ]
  },
  {
   "cell_type": "code",
   "execution_count": null,
   "id": "c11d4d4b-cc31-4e0c-9379-ae78fd5e6737",
   "metadata": {
    "scrolled": true
   },
   "outputs": [],
   "source": [
    "fileInputName = \"Selected_coutrnies_forRecipies.txt\"\n",
    "fileInputOpen = open(fileInputName, \"r\")\n",
    "message = fileInputOpen.read()\n",
    "\n",
    "with open(fileInputName, \"r\") as f:\n",
    "    country_raw = f.readlines()\n",
    "\n",
    "df_suggest = pd.DataFrame(columns=['Country', 'Recipe_1', 'Recipe_2', 'Recipe_3', 'Recipe_4', 'Recipe_5'])\n",
    "\n",
    "country_list = []\n",
    "for country in country_raw:\n",
    "    country = re.sub(\"\\n\", \"\", country)\n",
    "    recipe_list = getting_recipe_titles(df, stopword_ingredients, country_name=country)\n",
    "    dict_temp = {'Country': country, 'Recipe_1':recipe_list[0], 'Recipe_2':recipe_list[1], 'Recipe_3':recipe_list[2], 'Recipe_4':recipe_list[3], 'Recipe_5':recipe_list[4]}\n",
    "    print(dict_temp)\n",
    "    df_suggest = df_suggest._append(dict_temp, ignore_index = True)\n",
    "df_suggest.to_csv('Suggested_Recipe_LowDiversity_2.csv', index=False)"
   ]
  },
  {
   "cell_type": "markdown",
   "id": "8b4d5cf0-7853-4f4c-986e-effda5c7cd4e",
   "metadata": {},
   "source": [
    "# Suggestion with authentic Recipes - from countries"
   ]
  },
  {
   "cell_type": "code",
   "execution_count": 5,
   "id": "08b332f5-42ac-4f36-9093-14188ce1115d",
   "metadata": {},
   "outputs": [],
   "source": [
    "df_auth = df[df['authenticity'] == 'authentic']"
   ]
  },
  {
   "cell_type": "code",
   "execution_count": 13,
   "id": "eb6be2ae-e0e6-4384-a8b6-a3d5398e8a7e",
   "metadata": {},
   "outputs": [
    {
     "data": {
      "text/html": [
       "<div>\n",
       "<style scoped>\n",
       "    .dataframe tbody tr th:only-of-type {\n",
       "        vertical-align: middle;\n",
       "    }\n",
       "\n",
       "    .dataframe tbody tr th {\n",
       "        vertical-align: top;\n",
       "    }\n",
       "\n",
       "    .dataframe thead th {\n",
       "        text-align: right;\n",
       "    }\n",
       "</style>\n",
       "<table border=\"1\" class=\"dataframe\">\n",
       "  <thead>\n",
       "    <tr style=\"text-align: right;\">\n",
       "      <th></th>\n",
       "      <th>title</th>\n",
       "      <th>NER</th>\n",
       "      <th>countries</th>\n",
       "      <th>authenticity</th>\n",
       "    </tr>\n",
       "  </thead>\n",
       "  <tbody>\n",
       "    <tr>\n",
       "      <th>186</th>\n",
       "      <td>Lithuanian Sweet Bread(Pyragas; A Simplified V...</td>\n",
       "      <td>[\"flour\", \"sugar\", \"active dry yeast\", \"milk\",...</td>\n",
       "      <td>Lithuania</td>\n",
       "      <td>authentic</td>\n",
       "    </tr>\n",
       "    <tr>\n",
       "      <th>1177</th>\n",
       "      <td>The Original Mexican Cornbread</td>\n",
       "      <td>[\"sour cream\", \"meal\", \"eggs\", \"cream-style co...</td>\n",
       "      <td>Mexico</td>\n",
       "      <td>authentic</td>\n",
       "    </tr>\n",
       "    <tr>\n",
       "      <th>1362</th>\n",
       "      <td>Authentic Swedish Meat Balls(Great For Parties)</td>\n",
       "      <td>[\"ground pork\", \"onion\", \"ground allspice\", \"b...</td>\n",
       "      <td>Åland Islands</td>\n",
       "      <td>authentic</td>\n",
       "    </tr>\n",
       "    <tr>\n",
       "      <th>3418</th>\n",
       "      <td>Authentic French Dressing(For Bibb And Leaf Le...</td>\n",
       "      <td>[\"mustard\", \"garlic\", \"wine vinegar\", \"oil\"]</td>\n",
       "      <td>France</td>\n",
       "      <td>authentic</td>\n",
       "    </tr>\n",
       "    <tr>\n",
       "      <th>3680</th>\n",
       "      <td>Original German Sweet Chocolate Cake</td>\n",
       "      <td>[\"chocolate\", \"boiling water\", \"butter\", \"suga...</td>\n",
       "      <td>Germany</td>\n",
       "      <td>authentic</td>\n",
       "    </tr>\n",
       "  </tbody>\n",
       "</table>\n",
       "</div>"
      ],
      "text/plain": [
       "                                                  title  \\\n",
       "186   Lithuanian Sweet Bread(Pyragas; A Simplified V...   \n",
       "1177                     The Original Mexican Cornbread   \n",
       "1362  Authentic Swedish Meat Balls(Great For Parties)     \n",
       "3418  Authentic French Dressing(For Bibb And Leaf Le...   \n",
       "3680               Original German Sweet Chocolate Cake   \n",
       "\n",
       "                                                    NER      countries  \\\n",
       "186   [\"flour\", \"sugar\", \"active dry yeast\", \"milk\",...      Lithuania   \n",
       "1177  [\"sour cream\", \"meal\", \"eggs\", \"cream-style co...         Mexico   \n",
       "1362  [\"ground pork\", \"onion\", \"ground allspice\", \"b...  Åland Islands   \n",
       "3418       [\"mustard\", \"garlic\", \"wine vinegar\", \"oil\"]         France   \n",
       "3680  [\"chocolate\", \"boiling water\", \"butter\", \"suga...        Germany   \n",
       "\n",
       "     authenticity  \n",
       "186     authentic  \n",
       "1177    authentic  \n",
       "1362    authentic  \n",
       "3418    authentic  \n",
       "3680    authentic  "
      ]
     },
     "execution_count": 13,
     "metadata": {},
     "output_type": "execute_result"
    }
   ],
   "source": [
    "df_auth_save = df_auth.drop(columns=['Unnamed: 0', 'link', 'source', 'ingredients', 'directions'])\n",
    "df_auth_save.head()"
   ]
  },
  {
   "cell_type": "code",
   "execution_count": 14,
   "id": "f2e58552-4322-493e-a5d5-895faadc9924",
   "metadata": {},
   "outputs": [],
   "source": [
    "df_auth_save.to_csv('AuthenticSuggestions.csv', index=False)"
   ]
  },
  {
   "cell_type": "code",
   "execution_count": 15,
   "id": "bc403dcd-6a13-4cdd-828a-50c8fa64d4a2",
   "metadata": {},
   "outputs": [
    {
     "data": {
      "text/plain": [
       "839"
      ]
     },
     "execution_count": 15,
     "metadata": {},
     "output_type": "execute_result"
    }
   ],
   "source": [
    "len(df_auth_save)"
   ]
  },
  {
   "cell_type": "code",
   "execution_count": 4,
   "id": "ad49d601-dd27-4acb-9e3f-10f7403b0a50",
   "metadata": {},
   "outputs": [],
   "source": [
    "### Statistics for the authentic countries\n",
    "df_auth = pd.read_csv('AuthenticSuggestions.csv')"
   ]
  },
  {
   "cell_type": "code",
   "execution_count": 8,
   "id": "2b568fdd-6e96-4801-9d7a-b4d46011fe8c",
   "metadata": {},
   "outputs": [],
   "source": [
    "country_series = df_auth['countries'].value_counts()"
   ]
  },
  {
   "cell_type": "code",
   "execution_count": 9,
   "id": "4608945c-8950-4b8d-9aa4-d15e4d8b71ac",
   "metadata": {},
   "outputs": [],
   "source": [
    "country_series.to_csv('AuthCountries.csv')"
   ]
  },
  {
   "cell_type": "markdown",
   "id": "6ab1e23e-2fd1-4b4d-8271-9d5f41c503b0",
   "metadata": {},
   "source": [
    "# Tests"
   ]
  },
  {
   "cell_type": "code",
   "execution_count": 5,
   "id": "eb93caba-77e3-4a04-9cd0-b6a09a7dda79",
   "metadata": {},
   "outputs": [],
   "source": [
    "import pandas as pd\n",
    "import ast\n",
    "from collections import Counter\n",
    "import re"
   ]
  },
  {
   "cell_type": "code",
   "execution_count": 33,
   "id": "1f8c0880-0307-499f-a55e-498552600a0f",
   "metadata": {},
   "outputs": [],
   "source": [
    "df = pd.read_csv('Full_NLGRecipe_Authenticity.csv')"
   ]
  },
  {
   "cell_type": "code",
   "execution_count": 35,
   "id": "983b28aa-9599-411d-a298-7eca32168d44",
   "metadata": {},
   "outputs": [
    {
     "data": {
      "text/html": [
       "<div>\n",
       "<style scoped>\n",
       "    .dataframe tbody tr th:only-of-type {\n",
       "        vertical-align: middle;\n",
       "    }\n",
       "\n",
       "    .dataframe tbody tr th {\n",
       "        vertical-align: top;\n",
       "    }\n",
       "\n",
       "    .dataframe thead th {\n",
       "        text-align: right;\n",
       "    }\n",
       "</style>\n",
       "<table border=\"1\" class=\"dataframe\">\n",
       "  <thead>\n",
       "    <tr style=\"text-align: right;\">\n",
       "      <th></th>\n",
       "      <th>Unnamed: 0</th>\n",
       "      <th>title</th>\n",
       "      <th>ingredients</th>\n",
       "      <th>directions</th>\n",
       "      <th>link</th>\n",
       "      <th>source</th>\n",
       "      <th>NER</th>\n",
       "      <th>authenticity</th>\n",
       "    </tr>\n",
       "  </thead>\n",
       "  <tbody>\n",
       "    <tr>\n",
       "      <th>0</th>\n",
       "      <td>0</td>\n",
       "      <td>No-Bake Nut Cookies</td>\n",
       "      <td>[\"1 c. firmly packed brown sugar\", \"1/2 c. eva...</td>\n",
       "      <td>[\"In a heavy 2-quart saucepan, mix brown sugar...</td>\n",
       "      <td>www.cookbooks.com/Recipe-Details.aspx?id=44874</td>\n",
       "      <td>Gathered</td>\n",
       "      <td>[\"brown sugar\", \"milk\", \"vanilla\", \"nuts\", \"bu...</td>\n",
       "      <td>variation</td>\n",
       "    </tr>\n",
       "    <tr>\n",
       "      <th>1</th>\n",
       "      <td>1</td>\n",
       "      <td>Jewell Ball'S Chicken</td>\n",
       "      <td>[\"1 small jar chipped beef, cut up\", \"4 boned ...</td>\n",
       "      <td>[\"Place chipped beef on bottom of baking dish....</td>\n",
       "      <td>www.cookbooks.com/Recipe-Details.aspx?id=699419</td>\n",
       "      <td>Gathered</td>\n",
       "      <td>[\"beef\", \"chicken breasts\", \"cream of mushroom...</td>\n",
       "      <td>variation</td>\n",
       "    </tr>\n",
       "    <tr>\n",
       "      <th>2</th>\n",
       "      <td>2</td>\n",
       "      <td>Creamy Corn</td>\n",
       "      <td>[\"2 (16 oz.) pkg. frozen corn\", \"1 (8 oz.) pkg...</td>\n",
       "      <td>[\"In a slow cooker, combine all ingredients. C...</td>\n",
       "      <td>www.cookbooks.com/Recipe-Details.aspx?id=10570</td>\n",
       "      <td>Gathered</td>\n",
       "      <td>[\"frozen corn\", \"cream cheese\", \"butter\", \"gar...</td>\n",
       "      <td>variation</td>\n",
       "    </tr>\n",
       "    <tr>\n",
       "      <th>3</th>\n",
       "      <td>3</td>\n",
       "      <td>Chicken Funny</td>\n",
       "      <td>[\"1 large whole chicken\", \"2 (10 1/2 oz.) cans...</td>\n",
       "      <td>[\"Boil and debone chicken.\", \"Put bite size pi...</td>\n",
       "      <td>www.cookbooks.com/Recipe-Details.aspx?id=897570</td>\n",
       "      <td>Gathered</td>\n",
       "      <td>[\"chicken\", \"chicken gravy\", \"cream of mushroo...</td>\n",
       "      <td>variation</td>\n",
       "    </tr>\n",
       "    <tr>\n",
       "      <th>4</th>\n",
       "      <td>4</td>\n",
       "      <td>Reeses Cups(Candy)</td>\n",
       "      <td>[\"1 c. peanut butter\", \"3/4 c. graham cracker ...</td>\n",
       "      <td>[\"Combine first four ingredients and press in ...</td>\n",
       "      <td>www.cookbooks.com/Recipe-Details.aspx?id=659239</td>\n",
       "      <td>Gathered</td>\n",
       "      <td>[\"peanut butter\", \"graham cracker crumbs\", \"bu...</td>\n",
       "      <td>variation</td>\n",
       "    </tr>\n",
       "  </tbody>\n",
       "</table>\n",
       "</div>"
      ],
      "text/plain": [
       "   Unnamed: 0                  title  \\\n",
       "0           0    No-Bake Nut Cookies   \n",
       "1           1  Jewell Ball'S Chicken   \n",
       "2           2            Creamy Corn   \n",
       "3           3          Chicken Funny   \n",
       "4           4   Reeses Cups(Candy)     \n",
       "\n",
       "                                         ingredients  \\\n",
       "0  [\"1 c. firmly packed brown sugar\", \"1/2 c. eva...   \n",
       "1  [\"1 small jar chipped beef, cut up\", \"4 boned ...   \n",
       "2  [\"2 (16 oz.) pkg. frozen corn\", \"1 (8 oz.) pkg...   \n",
       "3  [\"1 large whole chicken\", \"2 (10 1/2 oz.) cans...   \n",
       "4  [\"1 c. peanut butter\", \"3/4 c. graham cracker ...   \n",
       "\n",
       "                                          directions  \\\n",
       "0  [\"In a heavy 2-quart saucepan, mix brown sugar...   \n",
       "1  [\"Place chipped beef on bottom of baking dish....   \n",
       "2  [\"In a slow cooker, combine all ingredients. C...   \n",
       "3  [\"Boil and debone chicken.\", \"Put bite size pi...   \n",
       "4  [\"Combine first four ingredients and press in ...   \n",
       "\n",
       "                                              link    source  \\\n",
       "0   www.cookbooks.com/Recipe-Details.aspx?id=44874  Gathered   \n",
       "1  www.cookbooks.com/Recipe-Details.aspx?id=699419  Gathered   \n",
       "2   www.cookbooks.com/Recipe-Details.aspx?id=10570  Gathered   \n",
       "3  www.cookbooks.com/Recipe-Details.aspx?id=897570  Gathered   \n",
       "4  www.cookbooks.com/Recipe-Details.aspx?id=659239  Gathered   \n",
       "\n",
       "                                                 NER authenticity  \n",
       "0  [\"brown sugar\", \"milk\", \"vanilla\", \"nuts\", \"bu...    variation  \n",
       "1  [\"beef\", \"chicken breasts\", \"cream of mushroom...    variation  \n",
       "2  [\"frozen corn\", \"cream cheese\", \"butter\", \"gar...    variation  \n",
       "3  [\"chicken\", \"chicken gravy\", \"cream of mushroo...    variation  \n",
       "4  [\"peanut butter\", \"graham cracker crumbs\", \"bu...    variation  "
      ]
     },
     "execution_count": 35,
     "metadata": {},
     "output_type": "execute_result"
    }
   ],
   "source": [
    "df.head()"
   ]
  },
  {
   "cell_type": "code",
   "execution_count": 37,
   "id": "4a575a0e-ad6a-4776-a53d-c930105c795f",
   "metadata": {},
   "outputs": [],
   "source": [
    "df_auth = df[df['authenticity'] == 'authentic']"
   ]
  },
  {
   "cell_type": "code",
   "execution_count": 43,
   "id": "8167377f-911f-4454-bbcc-c7357d64980e",
   "metadata": {},
   "outputs": [],
   "source": [
    "df_auth.to_csv('All_authentic_recipes.csv', index=False)"
   ]
  },
  {
   "cell_type": "code",
   "execution_count": null,
   "id": "84f8807e-956e-4b03-916c-a93e1c3a5a6e",
   "metadata": {},
   "outputs": [],
   "source": []
  }
 ],
 "metadata": {
  "kernelspec": {
   "display_name": "Python 3 (ipykernel)",
   "language": "python",
   "name": "python3"
  },
  "language_info": {
   "codemirror_mode": {
    "name": "ipython",
    "version": 3
   },
   "file_extension": ".py",
   "mimetype": "text/x-python",
   "name": "python",
   "nbconvert_exporter": "python",
   "pygments_lexer": "ipython3",
   "version": "3.12.3"
  }
 },
 "nbformat": 4,
 "nbformat_minor": 5
}
