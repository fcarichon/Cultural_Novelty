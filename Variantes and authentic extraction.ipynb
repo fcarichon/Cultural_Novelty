{
 "cells": [
  {
   "cell_type": "code",
   "execution_count": 7,
   "id": "7a305123-7097-4386-ba6a-21aa31d36766",
   "metadata": {},
   "outputs": [],
   "source": [
    "import pandas as pd\n",
    "import ast\n",
    "from collections import Counter\n",
    "import re\n",
    "from sklearn.model_selection import train_test_split\n",
    "import ast\n",
    "from KBEB_extraction import ID_linkages\n",
    "import json\n",
    "from tqdm import tqdm"
   ]
  },
  {
   "cell_type": "markdown",
   "id": "fe12f459-0dee-4c25-9763-123846ec345a",
   "metadata": {},
   "source": [
    "## Creation of KBs and variations (IDs)"
   ]
  },
  {
   "cell_type": "markdown",
   "id": "1a2ab724-cb49-46a0-ade7-ead50512e887",
   "metadata": {},
   "source": [
    "Ici on consitue la KB/EB à partir du fichier de train que l'on a généré\n",
    "\n",
    "Le fichier de validation sera pour constituer des variations qui nous permettront d'optimiser les hyperparamètres des modèles (Écart moyen des points et de faire une petite validation des rankings)\n",
    "\n",
    "Le fichier de tests aura les variations qu'on fera labellées -- on doit s'assurer ici qu'on a assez de variations en tests"
   ]
  },
  {
   "cell_type": "code",
   "execution_count": 9,
   "id": "c9b8ca2b-46ec-477f-b10c-04040d0d6066",
   "metadata": {},
   "outputs": [],
   "source": [
    "df_names = pd.read_excel(\"FC0924_Selected_recipes_V1.xlsx\")\n",
    "df_train = pd.read_csv(\"NLGRecipe_KownCountries_Train.csv\")\n",
    "df_valid = pd.read_csv(\"NLGRecipe_KownCountries_Valid.csv\")\n",
    "df_test = pd.read_csv(\"NLGRecipe_KownCountries_Test.csv\")"
   ]
  },
  {
   "cell_type": "code",
   "execution_count": null,
   "id": "c5160fe5-a0c9-4ea5-a261-74ef199d79fa",
   "metadata": {},
   "outputs": [],
   "source": [
    "# The one we keep -- As decided with Romain the KB and the EB must be const\n",
    "collect_KB = ID_linkages(df_names)\n",
    "df_names_long = collect_KB.ID_list_longKB(df_train)\n",
    "df_names_long_trainvar = collect_KB.train_variations(df_names_long, df_train)\n",
    "df_names_long_validvar = collect_KB.test_variations(df_names_long_trainvar, df_valid, col_name='valid_variations')\n",
    "df_names_long_testvar = collect_KB.test_variations(df_names_long_validvar, df_test, col_name='test_variations')\n",
    "df_names_long_testvar.head()"
   ]
  },
  {
   "cell_type": "code",
   "execution_count": null,
   "id": "e4e48bd2-2927-45f4-9de0-0781f073e599",
   "metadata": {},
   "outputs": [],
   "source": [
    "df_names_long_testvar.to_csv('RecipesNamesFull_withKBAndVar.csv',index=False)"
   ]
  },
  {
   "cell_type": "markdown",
   "id": "6cdc9891-1399-49e3-98d1-a98e71ed07e1",
   "metadata": {},
   "source": [
    "## Getting recipes texts, list of ingredients, clean texts and saving everything in 1 Json per RecipesNames"
   ]
  },
  {
   "cell_type": "code",
   "execution_count": null,
   "id": "28a00025-be60-47ca-ada9-ac0d0901cc35",
   "metadata": {},
   "outputs": [],
   "source": [
    "df_names_new  = pd.read_excel(\"RecipesNamesFull_withKBAndVar.csv\")\n",
    "df_train = pd.read_csv(\"NLGRecipe_KownCountries_Train.csv\")\n",
    "df_valid = pd.read_csv(\"NLGRecipe_KownCountries_Valid.csv\")\n",
    "df_test = pd.read_csv(\"NLGRecipe_KownCountries_Test.csv\")"
   ]
  },
  {
   "cell_type": "code",
   "execution_count": null,
   "id": "cf471d2f-92f9-47f6-85f0-c434c398ce96",
   "metadata": {},
   "outputs": [],
   "source": [
    "gen_instance = dataset_generation(df_names_new, df_train, df_valid, df_test, lemma=\"True\", authrorized_pos= ['PROPN', 'PRON', 'ADJ', 'ADV', 'NOUN', 'NUM', 'VERB'])"
   ]
  },
  {
   "cell_type": "code",
   "execution_count": null,
   "id": "4250e49c-a572-448d-9672-f317a064cb94",
   "metadata": {},
   "outputs": [],
   "source": [
    "gen_instance.json_create(file_path='./RecipeFullDataset/)"
   ]
  }
 ],
 "metadata": {
  "kernelspec": {
   "display_name": "Python 3 (ipykernel)",
   "language": "python",
   "name": "python3"
  },
  "language_info": {
   "codemirror_mode": {
    "name": "ipython",
    "version": 3
   },
   "file_extension": ".py",
   "mimetype": "text/x-python",
   "name": "python",
   "nbconvert_exporter": "python",
   "pygments_lexer": "ipython3",
   "version": "3.12.3"
  }
 },
 "nbformat": 4,
 "nbformat_minor": 5
}
