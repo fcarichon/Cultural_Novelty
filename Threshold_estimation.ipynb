{
 "cells": [
  {
   "cell_type": "code",
   "execution_count": 4,
   "id": "edff5772-3e0d-4c3b-a48e-841127b3a9b5",
   "metadata": {},
   "outputs": [],
   "source": [
    "from os import walk\n",
    "import json\n",
    "import re\n",
    "import statistics\n",
    "from utils import pmi, data_analysis, docs_distribution\n",
    "from tqdm import tqdm"
   ]
  },
  {
   "cell_type": "code",
   "execution_count": 5,
   "id": "8e556c4d-4603-4875-80b2-b68c945d22ef",
   "metadata": {},
   "outputs": [],
   "source": [
    "from Divergences import Jensen_Shannon\n",
    "import numpy as np\n",
    "from Scoring import compute_scores"
   ]
  },
  {
   "cell_type": "code",
   "execution_count": 6,
   "id": "5b1e749d-821f-4c33-8d06-43e91d6d3287",
   "metadata": {},
   "outputs": [],
   "source": [
    "my_path = './Recipe_dataset/RecipeFullDataset/'\n",
    "save_path = './Recipe_dataset/Recipe_with_scores/'\n",
    "filenames = next(walk(my_path), (None, None, []))[2]"
   ]
  },
  {
   "cell_type": "markdown",
   "id": "3c486bf6-1fd5-462f-8ddb-e2e731c34ba8",
   "metadata": {},
   "source": [
    "### First estimation for the Individual term divergence for newness"
   ]
  },
  {
   "cell_type": "code",
   "execution_count": 66,
   "id": "b6ac9e09-720c-4b30-abcd-cf8b412c415c",
   "metadata": {
    "scrolled": true
   },
   "outputs": [
    {
     "name": "stderr",
     "output_type": "stream",
     "text": [
      "100%|████████████████████████████████████████████████████████████████████████████████| 507/507 [01:15<00:00,  6.72it/s]"
     ]
    },
    {
     "name": "stdout",
     "output_type": "stream",
     "text": [
      "The average divergence of each terms for all documents in training is :  14.640325295634126\n",
      "The average standard deviation of the divergence of each terms for all documents in training is :  21.25346281695315\n"
     ]
    },
    {
     "name": "stderr",
     "output_type": "stream",
     "text": [
      "\n"
     ]
    }
   ],
   "source": [
    "thresholds_all = []\n",
    "JS = Jensen_Shannon() \n",
    "means = []\n",
    "std_devs = []\n",
    "for i in tqdm(range(len(filenames))):\n",
    "    file_recette = filenames[i]\n",
    "    #Opening Json file with al lrecipes infos\n",
    "    file_path = my_path + file_recette\n",
    "    with open(file_path) as json_file:\n",
    "        recipe_dict = json.load(json_file)\n",
    "\n",
    "    KB_recettes, _ = data_analysis(recipe_dict)\n",
    "\n",
    "    #Let's samples 15 recipe max per round -- we don't need more than that for threshold estimate\n",
    "    lengths = min(len(KB_recettes), 30)\n",
    "    for j in range(lengths):\n",
    "        eval_recipe = KB_recettes[j]\n",
    "        current_KB = [text for index, text in enumerate(KB_recettes) if index != i]\n",
    "\n",
    "        KB_updated = current_KB + [eval_recipe]\n",
    "        KB_matrix, KB_dist, NewKB_matrix, NewKB_dist, variation_dist = docs_distribution(KB_updated)\n",
    "        \n",
    "        JSD_vector = JS.linear_JSD(KB_dist, variation_dist) ## Here I get the individual divergence of each terms compare to the other -- now I want an average and a standard dev for that doc\n",
    "        appear = []\n",
    "        disappear = []\n",
    "        for k in range(len(JSD_vector)):\n",
    "            if JSD_vector[k] != 0:\n",
    "                #print(variation_dist[k] / (KB_dist[k]+1e-10))\n",
    "                if variation_dist[k] / (KB_dist[k]+1e-10) > 0:\n",
    "                    if KB_dist[k] > 0:\n",
    "                        appear.append(variation_dist[k] / (KB_dist[k]))\n",
    "                if KB_dist[k] / (variation_dist[k]+1e-10) > 0:\n",
    "                    if variation_dist[k] > 0:\n",
    "                        disappear.append(KB_dist[k] / (variation_dist[k]))\n",
    "        if len(appear) >1:\n",
    "            avg_a = statistics.mean(appear)\n",
    "            std_a = statistics.stdev(appear)\n",
    "        if len(disappear) >1:\n",
    "            avg_d = statistics.mean(disappear)\n",
    "            std_d = statistics.stdev(disappear)\n",
    "        means.append(avg_a)\n",
    "        #means.append(avg_d)\n",
    "        std_devs.append(std_a)\n",
    "        #std_devs.append(std_d)\n",
    "         \n",
    "print('The average divergence of each terms for all documents in training is : ', statistics.mean(means))\n",
    "print('The average standard deviation of the divergence of each terms for all documents in training is : ', statistics.mean(std_devs))"
   ]
  },
  {
   "cell_type": "code",
   "execution_count": null,
   "id": "bbb8a57d-d305-4292-a39f-78d529eae754",
   "metadata": {},
   "outputs": [],
   "source": [
    "thresholds_all = []\n",
    "JS = Jensen_Shannon() \n",
    "means = []\n",
    "std_devs = []\n",
    "newness1s, newness2s, uniqueness1s, difference1s, new_surprise1s, dist_surprise1s, uniqueness2s, difference2s = [],[],[],[],[],[],[],[]\n",
    "for i in tqdm(range(len(filenames))):\n",
    "    file_recette = filenames[i]\n",
    "    #Opening Json file with al lrecipes infos\n",
    "    file_path = my_path + file_recette\n",
    "    with open(file_path) as json_file:\n",
    "        recipe_dict = json.load(json_file)\n",
    "\n",
    "    KB_recettes, _ = data_analysis(recipe_dict)\n",
    "\n",
    "    #Let's samples 15 recipe max per round -- we don't need more than that for threshold estimate\n",
    "    lengths = min(len(KB_recettes), 10)\n",
    "    if len(KB_recettes) >3:\n",
    "        for j in range(lengths):\n",
    "            eval_recipe = KB_recettes[j]\n",
    "            current_KB = [text for index, text in enumerate(KB_recettes) if index != i]\n",
    "            if len(current_KB) > 50:\n",
    "                current_KB = current_KB[:50]\n",
    "            newness1, _, uniqueness1, _, difference1, _, new_surprise1, _, dist_surprise1, _ = compute_scores(current_KB, eval_recipe, newness_type='div', uniq_type='shift', diff_type='local')\n",
    "            newness2, _, uniqueness2, _, difference2, _, _, _, _, _ = compute_scores(current_KB, eval_recipe, newness_type='prob', uniq_type='dist', diff_type='global')\n",
    "            \n",
    "            newness1s.append(newness1)\n",
    "            newness2s.append(newness2)\n",
    "            uniqueness1s.append(uniqueness1)\n",
    "            uniqueness2s.append(uniqueness2)\n",
    "            difference1s.append(difference1)\n",
    "            difference2s.append(difference2)\n",
    "            new_surprise1s.append(new_surprise1)\n",
    "            dist_surprise1s.append(dist_surprise1)"
   ]
  },
  {
   "cell_type": "code",
   "execution_count": 22,
   "id": "8625d958-db6e-41ee-8ca2-a290eb181fee",
   "metadata": {},
   "outputs": [
    {
     "name": "stdout",
     "output_type": "stream",
     "text": [
      "The average newness 1 :  9.787785635152834e-05\n",
      "The average standard deviation newness 1 :  0.0006823768444105392\n",
      "=====================================================\n",
      "The average newness 2 :  0.0006014464397221442\n",
      "The average standard deviation newness 2 :  0.000429302944878075\n",
      "=====================================================\n",
      "The average uniqueness 1 :  0.07555522199120962\n",
      "The average standard deviation uniqueness 1 :  0.027067390553279926\n",
      "=====================================================\n",
      "The average uniqueness 2 :  0.3413960451113142\n",
      "The average standard deviation uniqueness 2 :  0.09305118657712405\n",
      "=====================================================\n",
      "The average difference 1 :  0.010468712824173209\n",
      "The average standard deviation difference 1 :  0.07305834341965008\n",
      "=====================================================\n",
      "The average difference 2 :  0.1099779862216786\n",
      "The average standard deviation difference 2 :  0.15392070117525491\n",
      "=====================================================\n",
      "The average new_surprise :  0.0016093334472012499\n",
      "The average standard deviation new_surprise :  0.005274331203062446\n",
      "=====================================================\n",
      "The average dist_surprise :  0.0004865002584515531\n",
      "The average standard deviation dist_surprise :  0.001043113510080868\n"
     ]
    }
   ],
   "source": [
    "print('The average newness 1 : ', statistics.mean(newness1s))\n",
    "print('The average standard deviation newness 1 : ', statistics.stdev(newness1s))\n",
    "print('=====================================================')\n",
    "print('The average newness 2 : ', statistics.mean(newness2s))\n",
    "print('The average standard deviation newness 2 : ', statistics.stdev(newness2s))\n",
    "print('=====================================================')\n",
    "print('The average uniqueness 1 : ', statistics.mean(uniqueness1s))\n",
    "print('The average standard deviation uniqueness 1 : ', statistics.stdev(uniqueness1s))\n",
    "print('=====================================================')\n",
    "print('The average uniqueness 2 : ', statistics.mean(uniqueness2s))\n",
    "print('The average standard deviation uniqueness 2 : ', statistics.stdev(uniqueness2s))\n",
    "print('=====================================================')\n",
    "print('The average difference 1 : ', statistics.mean(difference1s))\n",
    "print('The average standard deviation difference 1 : ', statistics.stdev(difference1s))\n",
    "print('=====================================================')\n",
    "print('The average difference 2 : ', statistics.mean(difference2s))\n",
    "print('The average standard deviation difference 2 : ', statistics.stdev(difference2s))\n",
    "print('=====================================================')\n",
    "print('The average new_surprise : ', statistics.mean(new_surprise1s))\n",
    "print('The average standard deviation new_surprise : ', statistics.stdev(new_surprise1s))\n",
    "print('=====================================================')\n",
    "print('The average dist_surprise : ', statistics.mean(dist_surprise1s))\n",
    "print('The average standard deviation dist_surprise : ', statistics.stdev(dist_surprise1s))"
   ]
  },
  {
   "cell_type": "code",
   "execution_count": null,
   "id": "65e2e6df-fdd5-4853-9891-af3ab71b3328",
   "metadata": {},
   "outputs": [],
   "source": []
  }
 ],
 "metadata": {
  "kernelspec": {
   "display_name": "Python 3 (ipykernel)",
   "language": "python",
   "name": "python3"
  },
  "language_info": {
   "codemirror_mode": {
    "name": "ipython",
    "version": 3
   },
   "file_extension": ".py",
   "mimetype": "text/x-python",
   "name": "python",
   "nbconvert_exporter": "python",
   "pygments_lexer": "ipython3",
   "version": "3.12.3"
  }
 },
 "nbformat": 4,
 "nbformat_minor": 5
}
