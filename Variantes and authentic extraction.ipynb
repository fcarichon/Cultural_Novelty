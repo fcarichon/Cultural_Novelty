{
 "cells": [
  {
   "cell_type": "code",
   "execution_count": 4,
   "id": "7a305123-7097-4386-ba6a-21aa31d36766",
   "metadata": {},
   "outputs": [],
   "source": [
    "import pandas as pd\n",
    "import ast\n",
    "from collections import Counter\n",
    "import re\n",
    "from sklearn.model_selection import train_test_split\n",
    "from KBEB_extraction import ID_linkages\n",
    "import json\n",
    "from tqdm import tqdm"
   ]
  },
  {
   "cell_type": "markdown",
   "id": "fe12f459-0dee-4c25-9763-123846ec345a",
   "metadata": {},
   "source": [
    "## Creation of KBs and variations (IDs)"
   ]
  },
  {
   "cell_type": "code",
   "execution_count": 7,
   "id": "632d9a8c-7a6d-4891-8ec9-4f9c95208f3f",
   "metadata": {},
   "outputs": [],
   "source": [
    "#name_list = [\"wine chicken\"]  #Mulled Wine\n",
    "#df_samecountry = df_train[df_train['countries'] == 'france']\n",
    "#list_title = list(df_samecountry['title'])\n",
    "#temp_ids = []\n",
    "#for j, title in enumerate(list_title):\n",
    "#    title = title.lower()\n",
    "#    for name in name_list:\n",
    "#        name = name.lower()\n",
    "#        if name in title:\n",
    "#            temp_ids.append(j)\n",
    "#\n",
    "#list_of_ids = list(df_samecountry.iloc[temp_ids][\"Unnamed: 0\"])\n",
    "#print(list_of_ids)\n",
    "\n",
    "#print(list(df_train[df_train['Unnamed: 0'] == 2108435]['title']))\n",
    "\n",
    "#df_train[df_train['Unnamed: 0'] == 2108435]"
   ]
  },
  {
   "cell_type": "markdown",
   "id": "1a2ab724-cb49-46a0-ade7-ead50512e887",
   "metadata": {},
   "source": [
    "Ici on consitue la KB/EB à partir du fichier de train que l'on a généré\n",
    "\n",
    "Le fichier de validation sera pour constituer des variations qui nous permettront d'optimiser les hyperparamètres des modèles (Écart moyen des points et de faire une petite validation des rankings)\n",
    "\n",
    "Le fichier de tests aura les variations qu'on fera labellées -- on doit s'assurer ici qu'on a assez de variations en tests"
   ]
  },
  {
   "cell_type": "code",
   "execution_count": 10,
   "id": "c9b8ca2b-46ec-477f-b10c-04040d0d6066",
   "metadata": {},
   "outputs": [],
   "source": [
    "df_names = pd.read_excel(\"Recipe_dataset/FC0924_Selected_recipes_VNewCoutrniesCorrected.xlsx\")\n",
    "df_train = pd.read_csv(\"Recipe_dataset/NLGRecipe_KownCountriesOnly_Train.csv\")\n",
    "df_valid = pd.read_csv(\"Recipe_dataset/NLGRecipe_KownCountriesOnly_Valid.csv\")\n",
    "df_test = pd.read_csv(\"Recipe_dataset/NLGRecipe_KownCountriesOnly_Test.csv\")"
   ]
  },
  {
   "cell_type": "code",
   "execution_count": 12,
   "id": "c5160fe5-a0c9-4ea5-a261-74ef199d79fa",
   "metadata": {},
   "outputs": [],
   "source": [
    "# The one we keep -- As decided with Romain the KB and the EB -- with all recipe of the same country with same name\n",
    "collect_KB = ID_linkages(df_names)\n",
    "df_names_long = collect_KB.ID_list_longKB(df_train)"
   ]
  },
  {
   "cell_type": "code",
   "execution_count": 14,
   "id": "9ab5e75a-33f4-4c85-ae78-ef6103271f78",
   "metadata": {},
   "outputs": [
    {
     "data": {
      "text/html": [
       "<div>\n",
       "<style scoped>\n",
       "    .dataframe tbody tr th:only-of-type {\n",
       "        vertical-align: middle;\n",
       "    }\n",
       "\n",
       "    .dataframe tbody tr th {\n",
       "        vertical-align: top;\n",
       "    }\n",
       "\n",
       "    .dataframe thead th {\n",
       "        text-align: right;\n",
       "    }\n",
       "</style>\n",
       "<table border=\"1\" class=\"dataframe\">\n",
       "  <thead>\n",
       "    <tr style=\"text-align: right;\">\n",
       "      <th></th>\n",
       "      <th>Recette</th>\n",
       "      <th>Pays</th>\n",
       "      <th>ids_LongList</th>\n",
       "      <th>train_variations</th>\n",
       "      <th>valid_variations</th>\n",
       "      <th>test_variations</th>\n",
       "    </tr>\n",
       "  </thead>\n",
       "  <tbody>\n",
       "    <tr>\n",
       "      <th>0</th>\n",
       "      <td>Honey Cake</td>\n",
       "      <td>ukraine</td>\n",
       "      <td>[2060432, 2203354, 1077095, 1143226, 1902200, ...</td>\n",
       "      <td>[1609071, 1302873, 1182851, 1131316, 1095143, ...</td>\n",
       "      <td>[517917, 2080408, 1041694, 218055]</td>\n",
       "      <td>[1936434, 1008416, 331579, 545002, 1407223, 12...</td>\n",
       "    </tr>\n",
       "    <tr>\n",
       "      <th>1</th>\n",
       "      <td>Sesame Noodle</td>\n",
       "      <td>thailand</td>\n",
       "      <td>[372599, 2159359, 1873151, 298695, 1122236, 18...</td>\n",
       "      <td>[1227441, 1845726, 1045952, 1114312, 1609376, ...</td>\n",
       "      <td>[1393403, 1280133]</td>\n",
       "      <td>[989404, 2085811, 1387994, 1621723, 1073752]</td>\n",
       "    </tr>\n",
       "    <tr>\n",
       "      <th>2</th>\n",
       "      <td>Marinade</td>\n",
       "      <td>south korea</td>\n",
       "      <td>[1285303, 1993067, 1744664, 1114136, 1700445, ...</td>\n",
       "      <td>[1185521, 1111148, 1947504, 1542327, 980168, 1...</td>\n",
       "      <td>[2078789, 1608872, 1314019, 414394, 1356146, 1...</td>\n",
       "      <td>[1064233, 1301636, 924326, 1043037, 607106, 10...</td>\n",
       "    </tr>\n",
       "    <tr>\n",
       "      <th>3</th>\n",
       "      <td>Chicken Satay | Satay Chicken</td>\n",
       "      <td>thailand</td>\n",
       "      <td>[1359368, 925716, 1596440, 2048011, 1343719, 9...</td>\n",
       "      <td>[1054353, 1036325, 210380, 1180698, 1319376, 9...</td>\n",
       "      <td>[1840402, 1637506]</td>\n",
       "      <td>[984943, 1224116, 2021347, 1042459, 1063697, 1...</td>\n",
       "    </tr>\n",
       "    <tr>\n",
       "      <th>4</th>\n",
       "      <td>Tartar</td>\n",
       "      <td>japan</td>\n",
       "      <td>[916180, 1231158, 1870929, 1026618]</td>\n",
       "      <td>[1592080, 963214, 1281797, 1153019, 1226450, 1...</td>\n",
       "      <td>[1986345, 2061773, 1231640, 957926, 1325377, 1...</td>\n",
       "      <td>[1991897, 1393889]</td>\n",
       "    </tr>\n",
       "  </tbody>\n",
       "</table>\n",
       "</div>"
      ],
      "text/plain": [
       "                         Recette         Pays  \\\n",
       "0                     Honey Cake      ukraine   \n",
       "1                  Sesame Noodle     thailand   \n",
       "2                       Marinade  south korea   \n",
       "3  Chicken Satay | Satay Chicken     thailand   \n",
       "4                         Tartar        japan   \n",
       "\n",
       "                                        ids_LongList  \\\n",
       "0  [2060432, 2203354, 1077095, 1143226, 1902200, ...   \n",
       "1  [372599, 2159359, 1873151, 298695, 1122236, 18...   \n",
       "2  [1285303, 1993067, 1744664, 1114136, 1700445, ...   \n",
       "3  [1359368, 925716, 1596440, 2048011, 1343719, 9...   \n",
       "4                [916180, 1231158, 1870929, 1026618]   \n",
       "\n",
       "                                    train_variations  \\\n",
       "0  [1609071, 1302873, 1182851, 1131316, 1095143, ...   \n",
       "1  [1227441, 1845726, 1045952, 1114312, 1609376, ...   \n",
       "2  [1185521, 1111148, 1947504, 1542327, 980168, 1...   \n",
       "3  [1054353, 1036325, 210380, 1180698, 1319376, 9...   \n",
       "4  [1592080, 963214, 1281797, 1153019, 1226450, 1...   \n",
       "\n",
       "                                    valid_variations  \\\n",
       "0                 [517917, 2080408, 1041694, 218055]   \n",
       "1                                 [1393403, 1280133]   \n",
       "2  [2078789, 1608872, 1314019, 414394, 1356146, 1...   \n",
       "3                                 [1840402, 1637506]   \n",
       "4  [1986345, 2061773, 1231640, 957926, 1325377, 1...   \n",
       "\n",
       "                                     test_variations  \n",
       "0  [1936434, 1008416, 331579, 545002, 1407223, 12...  \n",
       "1       [989404, 2085811, 1387994, 1621723, 1073752]  \n",
       "2  [1064233, 1301636, 924326, 1043037, 607106, 10...  \n",
       "3  [984943, 1224116, 2021347, 1042459, 1063697, 1...  \n",
       "4                                 [1991897, 1393889]  "
      ]
     },
     "execution_count": 14,
     "metadata": {},
     "output_type": "execute_result"
    }
   ],
   "source": [
    "df_names_long_trainvar = collect_KB.train_variations(df_names_long, df_train)\n",
    "df_names_long_validvar = collect_KB.test_variations(df_names_long_trainvar, df_valid, col_name='valid_variations')\n",
    "df_names_long_testvar = collect_KB.test_variations(df_names_long_validvar, df_test, col_name='test_variations')\n",
    "df_names_long_testvar.head()"
   ]
  },
  {
   "cell_type": "code",
   "execution_count": 16,
   "id": "13da1a6b-725a-4f67-8e3c-184a044754e9",
   "metadata": {},
   "outputs": [],
   "source": [
    "#col_list = ['']\n",
    "#df = df.drop(col_list, axis=1)"
   ]
  },
  {
   "cell_type": "code",
   "execution_count": 22,
   "id": "e4e48bd2-2927-45f4-9de0-0781f073e599",
   "metadata": {},
   "outputs": [],
   "source": [
    "df_names_long_testvar.to_csv('Recipe_dataset/NewRecipesKBAndVar.csv',index=False)"
   ]
  },
  {
   "cell_type": "markdown",
   "id": "6cdc9891-1399-49e3-98d1-a98e71ed07e1",
   "metadata": {},
   "source": [
    "## Getting recipes texts, list of ingredients, clean texts and saving everything in 1 Json per RecipesNames"
   ]
  },
  {
   "cell_type": "code",
   "execution_count": 20,
   "id": "481b6f1f-d641-49c3-8fd3-67f49d6e7489",
   "metadata": {},
   "outputs": [],
   "source": [
    "import pandas as pd\n",
    "import ast\n",
    "from collections import Counter\n",
    "import re\n",
    "from sklearn.model_selection import train_test_split\n",
    "from KBEB_extraction import ID_linkages\n",
    "import json\n",
    "from tqdm import tqdm\n",
    "from json_dataset import dataset_generation"
   ]
  },
  {
   "cell_type": "code",
   "execution_count": 24,
   "id": "28a00025-be60-47ca-ada9-ac0d0901cc35",
   "metadata": {},
   "outputs": [],
   "source": [
    "df_names_new  = pd.read_csv(\"Recipe_dataset/NewRecipesKBAndVar.csv\")\n",
    "df_train = pd.read_csv(\"Recipe_dataset/NLGRecipe_KownCountriesOnly_Train.csv\")\n",
    "df_valid = pd.read_csv(\"Recipe_dataset/NLGRecipe_KownCountriesOnly_Valid.csv\")\n",
    "df_test = pd.read_csv(\"Recipe_dataset/NLGRecipe_KownCountriesOnly_Test.csv\")"
   ]
  },
  {
   "cell_type": "code",
   "execution_count": 28,
   "id": "cf471d2f-92f9-47f6-85f0-c434c398ce96",
   "metadata": {},
   "outputs": [],
   "source": [
    "gen_instance = dataset_generation(df_names_new, df_train, df_valid, df_test, lemma=\"True\", authrorized_pos= ['PROPN', 'PRON', 'ADJ', 'ADV', 'NOUN', 'NUM', 'VERB'])"
   ]
  },
  {
   "cell_type": "code",
   "execution_count": 30,
   "id": "4250e49c-a572-448d-9672-f317a064cb94",
   "metadata": {
    "scrolled": true
   },
   "outputs": [
    {
     "name": "stdout",
     "output_type": "stream",
     "text": [
      "===========Starting Data Collection============\n",
      "=====IDs collected=====\n"
     ]
    },
    {
     "name": "stderr",
     "output_type": "stream",
     "text": [
      "100%|████████████████████████████████████████████████████████████████████████████████████| 5/5 [00:00<00:00, 41.86it/s]\n"
     ]
    },
    {
     "name": "stdout",
     "output_type": "stream",
     "text": [
      "=====Recipes, countries and ingredients collected=====\n"
     ]
    },
    {
     "name": "stderr",
     "output_type": "stream",
     "text": [
      "100%|████████████████████████████████████████████████████████████████████████████████████| 5/5 [00:08<00:00,  1.66s/it]\n"
     ]
    },
    {
     "name": "stdout",
     "output_type": "stream",
     "text": [
      "=====cleaning recipes done=====\n",
      "============Starting saving procedure============\n"
     ]
    },
    {
     "name": "stderr",
     "output_type": "stream",
     "text": [
      "100%|███████████████████████████████████████████████████████████████████████████████████| 5/5 [00:00<00:00, 323.30it/s]"
     ]
    },
    {
     "name": "stdout",
     "output_type": "stream",
     "text": [
      "============ALL 5 FILES SAVED============\n"
     ]
    },
    {
     "name": "stderr",
     "output_type": "stream",
     "text": [
      "\n"
     ]
    }
   ],
   "source": [
    "gen_instance.json_create(file_path='./Recipe_dataset/NewRecipes/')"
   ]
  },
  {
   "cell_type": "code",
   "execution_count": null,
   "id": "e750a633-468a-4727-94b8-f52fb7d140c0",
   "metadata": {},
   "outputs": [],
   "source": []
  }
 ],
 "metadata": {
  "kernelspec": {
   "display_name": "Python 3 (ipykernel)",
   "language": "python",
   "name": "python3"
  },
  "language_info": {
   "codemirror_mode": {
    "name": "ipython",
    "version": 3
   },
   "file_extension": ".py",
   "mimetype": "text/x-python",
   "name": "python",
   "nbconvert_exporter": "python",
   "pygments_lexer": "ipython3",
   "version": "3.12.3"
  }
 },
 "nbformat": 4,
 "nbformat_minor": 5
}
